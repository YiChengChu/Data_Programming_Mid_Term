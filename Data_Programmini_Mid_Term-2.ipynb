{
 "cells": [
  {
   "cell_type": "code",
   "execution_count": 3,
   "id": "a0dc81c4",
   "metadata": {},
   "outputs": [
    {
     "data": {
      "text/plain": [
       "(5.0, 0.75)"
      ]
     },
     "execution_count": 3,
     "metadata": {},
     "output_type": "execute_result"
    }
   ],
   "source": [
    "import math\n",
    "\n",
    "class Point:\n",
    "    def __init__(self, y=0, x=0):\n",
    "        self.x = x\n",
    "        self.y = y\n",
    "\n",
    "class Segment:\n",
    "    def __init__(self, start_point, end_point):\n",
    "        self.start = start_point\n",
    "        self.end = end_point\n",
    "    \n",
    "    def length(self):\n",
    "        return math.sqrt((self.end.x - self.start.x)**2 + (self.end.y - self.start.y)**2)\n",
    "    \n",
    "    def slope(self):\n",
    "        try:\n",
    "            return (self.end.y - self.start.y) / (self.end.x - self.start.x)\n",
    "        except ZeroDivisionError:\n",
    "            return None\n",
    "\n",
    "p1 = Point(3, 4)\n",
    "p2 = Point()\n",
    "s = Segment(p1, p2)\n",
    "\n",
    "segment_length = s.length()\n",
    "segment_slope = s.slope()\n",
    "\n",
    "(segment_length, segment_slope)\n"
   ]
  },
  {
   "cell_type": "code",
   "execution_count": null,
   "id": "38ed36ec",
   "metadata": {},
   "outputs": [],
   "source": []
  }
 ],
 "metadata": {
  "kernelspec": {
   "display_name": "Python 3 (ipykernel)",
   "language": "python",
   "name": "python3"
  },
  "language_info": {
   "codemirror_mode": {
    "name": "ipython",
    "version": 3
   },
   "file_extension": ".py",
   "mimetype": "text/x-python",
   "name": "python",
   "nbconvert_exporter": "python",
   "pygments_lexer": "ipython3",
   "version": "3.10.9"
  }
 },
 "nbformat": 4,
 "nbformat_minor": 5
}
